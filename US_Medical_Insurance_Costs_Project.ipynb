{
 "cells": [
  {
   "cell_type": "markdown",
   "metadata": {},
   "source": [
    "# U.S. Medical Insurance Costs\n",
    "\n",
    "In this project, a CSV file with medical insurance costs will be investigated using Python fundamentals. The goal with this project will be to analyze various attributes within insurance.csv to learn more about the patient information in the file. \n",
    "In this project I will try to check the next ideas: \n",
    "\n",
    "\n",
    "- What is the average age of the patients in the dataset?\n",
    "- What is the average yearly medical charges of the patients?\n",
    "- Where are the patients from?\n",
    "- Which region has the highest average cost? The least?\n",
    "- Are the average costs different for each generation?\n",
    "- Do smokers pay more than non-smokers overall? \n",
    "- What is the number of males vs. females counted in the dataset?\n",
    "- Do men or women pay more on average overall? \n",
    "\n",
    "Finally I will create a dictionary that contains all patient information. \n",
    "\n",
    "### 1. Import library"
   ]
  },
  {
   "cell_type": "code",
   "execution_count": 1,
   "metadata": {},
   "outputs": [],
   "source": [
    "import csv"
   ]
  },
  {
   "cell_type": "markdown",
   "metadata": {},
   "source": [
    "### 2. Importing Dataset.\n",
    "\n",
    "Checking the file `insurance.csv` it is possible to notice that it contains the following columns:\n",
    "\n",
    "- Patient Age\n",
    "- Patient Sex\n",
    "- Patient BMI\n",
    "- Patient Number of Children\n",
    "- Patient Smoking Status\n",
    "- Patient U.S Geopraphical Region\n",
    "- Patient Yearly Medical Insurance Cost\n",
    "\n",
    "To store this information, seven empty lists will be created hold each individual column of data from insurance.csv. After that, I will import the data set through a function that updates these lists with the values of each of its rows."
   ]
  },
  {
   "cell_type": "code",
   "execution_count": 169,
   "metadata": {},
   "outputs": [],
   "source": [
    "ages = []\n",
    "sexes = []\n",
    "bmis = []\n",
    "num_children = []\n",
    "smoker_statuses = []\n",
    "regions = []\n",
    "insurance_charges = []"
   ]
  },
  {
   "cell_type": "code",
   "execution_count": 170,
   "metadata": {},
   "outputs": [],
   "source": [
    "def update_list (lst, file, column_name):\n",
    "    with open(file) as file_dataset: \n",
    "        csv_dicc = csv.DictReader(file_dataset)\n",
    "        for row in csv_dicc:\n",
    "            lst.append(row[column_name])"
   ]
  },
  {
   "cell_type": "code",
   "execution_count": 191,
   "metadata": {},
   "outputs": [],
   "source": [
    "update_list(ages, 'insurance.csv', 'age')\n",
    "update_list(sexes, 'insurance.csv', 'sex')\n",
    "update_list(bmis, 'insurance.csv', 'bmi')\n",
    "update_list(num_children, 'insurance.csv', 'children')\n",
    "update_list(smoker_statuses, 'insurance.csv', 'smoker')\n",
    "update_list(regions, 'insurance.csv', 'region')\n",
    "update_list(insurance_charges, 'insurance.csv', 'charges')"
   ]
  },
  {
   "cell_type": "markdown",
   "metadata": {},
   "source": [
    "To get the answer of the initial questions, a class called `PatientsInfo` will be built out which contains several methods: \n",
    "- With `analyze_ages()` will be possible to know the average patient age.\n",
    "- `average_charges()` will calculate the average insurance charge in the dataset\n",
    "- With `unique_regions()` will possible to know the regions where the patients are from.\n",
    "- With `analyze_sexes()` will notice how many female and male patient we have in the dataset.\n",
    "- And with `create_dictionary()` we will get a dictionary with all information per each patient.\n",
    "\n",
    "After that, I will use for loops to get the answers to the remaining questions."
   ]
  },
  {
   "cell_type": "code",
   "execution_count": 105,
   "metadata": {},
   "outputs": [],
   "source": [
    "class PatientsInfo:\n",
    "    def __init__ (self, patients_ages, patients_sexes, patients_bmis, patients_num_children, \n",
    "                 patients_smoker_statuses, patients_regions, patients_charges):\n",
    "        self.patients_ages = patients_ages\n",
    "        self.patients_sexes = patients_sexes\n",
    "        self.patients_bmis = patients_bmis\n",
    "        self.patients_num_children = patients_num_children\n",
    "        self.patients_smoker_statuses = patients_smoker_statuses\n",
    "        self.patients_regions = patients_regions\n",
    "        self.patients_charges = patients_charges\n",
    "    \n",
    "    def analyze_ages(self):\n",
    "        total_ages = 0\n",
    "        for age in self.patients_ages: \n",
    "            total_ages += int(age)\n",
    "        average_ages = round(total_ages / len(self.patients_ages))\n",
    "        return('The Average Patient Age is: {average} years old'.format(average = average_ages))\n",
    "    \n",
    "    def average_charges(self):\n",
    "        total_charge = 0\n",
    "        for charge in self.patients_charges:\n",
    "            total_charge += float(charge)\n",
    "        average_charge = round(total_charge/len(self.patients_charges),2)\n",
    "        return('The Average Patient Insurance charge is: {c} dollars'.format(c = average_charge))\n",
    "    \n",
    "    def regions (self):\n",
    "        regions = []\n",
    "        for region in self.patients_regions:\n",
    "            if region not in regions:\n",
    "                regions.append(region)\n",
    "        return regions\n",
    "    \n",
    "    def analyze_sex (self):\n",
    "        male = 0\n",
    "        female = 0\n",
    "        for sex in self.patients_sexes:\n",
    "            if sex == 'male':\n",
    "                male += 1\n",
    "            else:\n",
    "                female +=1\n",
    "        print(\"Count for female: {f}\".format(f = female))\n",
    "        print(\"Count for male: {m}\".format(m = male))\n",
    "        \n",
    "    def create_dictionary(self):\n",
    "        self.patients_dictionary = {}\n",
    "        self.patients_dictionary[\"age\"] = [int(age) for age in self.patients_ages]\n",
    "        self.patients_dictionary[\"sex\"] = self.patients_sexes\n",
    "        self.patients_dictionary[\"bmi\"] = self.patients_bmis\n",
    "        self.patients_dictionary[\"children\"] = self.patients_num_children\n",
    "        self.patients_dictionary[\"smoker\"] = self.patients_smoker_statuses\n",
    "        self.patients_dictionary[\"regions\"] = self.patients_regions\n",
    "        self.patients_dictionary[\"charges\"] = self.patients_charges\n",
    "        return self.patients_dictionary    \n"
   ]
  },
  {
   "cell_type": "markdown",
   "metadata": {},
   "source": [
    "### 3. Getting answers"
   ]
  },
  {
   "cell_type": "code",
   "execution_count": 106,
   "metadata": {},
   "outputs": [],
   "source": [
    "patient_info = PatientsInfo(ages,sexes,bmis,num_children,smoker_statuses,regions,insurance_charges)"
   ]
  },
  {
   "cell_type": "markdown",
   "metadata": {},
   "source": [
    "**1. What is the average age of the patients in the dataset?**"
   ]
  },
  {
   "cell_type": "code",
   "execution_count": 107,
   "metadata": {},
   "outputs": [
    {
     "data": {
      "text/plain": [
       "'The Average Patient Age is: 39 years old'"
      ]
     },
     "execution_count": 107,
     "metadata": {},
     "output_type": "execute_result"
    }
   ],
   "source": [
    "patient_info.analyze_ages()"
   ]
  },
  {
   "cell_type": "markdown",
   "metadata": {},
   "source": [
    "**2. What is the average yearly medical charges of the patients?**"
   ]
  },
  {
   "cell_type": "code",
   "execution_count": 108,
   "metadata": {},
   "outputs": [
    {
     "data": {
      "text/plain": [
       "'The Average Patient Insurance charge is: 13270.42 dollars'"
      ]
     },
     "execution_count": 108,
     "metadata": {},
     "output_type": "execute_result"
    }
   ],
   "source": [
    "patient_info.average_charges()"
   ]
  },
  {
   "cell_type": "markdown",
   "metadata": {},
   "source": [
    "**3. Where are the patients from? How many patients do we have per region?**"
   ]
  },
  {
   "cell_type": "code",
   "execution_count": 109,
   "metadata": {},
   "outputs": [
    {
     "name": "stdout",
     "output_type": "stream",
     "text": [
      "The patients are from: ['southwest', 'southeast', 'northwest', 'northeast']\n",
      "\n",
      "In region southwest there are 325 patientes.\n",
      "The average insurance cost in southwest is: 12346.94 dollars\n",
      "In region southeast there are 364 patientes.\n",
      "The average insurance cost in southeast is: 14735.41 dollars\n",
      "In region northwest there are 325 patientes.\n",
      "The average insurance cost in northwest is: 12417.58 dollars\n",
      "In region northeast there are 324 patientes.\n",
      "The average insurance cost in northeast is: 13406.38 dollars\n"
     ]
    }
   ],
   "source": [
    "region_charge = []\n",
    "for i in range(len(regions)):\n",
    "    region_charge.append([regions[i], insurance_charges[i]])\n",
    "\n",
    "regions_data = patient_info.regions()\n",
    "\n",
    "print('The patients are from: {region}'.format(region = regions_data))\n",
    "print('')\n",
    "\n",
    "regions_insurance_cost = [0 * i for i in range(len(regions_data))]\n",
    "regions_patients = [0 * i for i in range(len(regions_data))]\n",
    "\n",
    "for index in range(len(region_charge)):\n",
    "    if region_charge[index][0] == regions_data[0]:\n",
    "        regions_insurance_cost[0] += float(region_charge[index][1])\n",
    "        regions_patients[0] += 1\n",
    "    elif region_charge[index][0] == regions_data[1]:\n",
    "        regions_insurance_cost[1] += float(region_charge[index][1])\n",
    "        regions_patients[1] += 1\n",
    "    elif region_charge[index][0] == regions_data[2]:\n",
    "        regions_insurance_cost[2] += float(region_charge[index][1])\n",
    "        regions_patients[2] += 1\n",
    "    else:\n",
    "        regions_insurance_cost[-1] += float(region_charge[index][1])\n",
    "        regions_patients[-1] += 1\n",
    "\n",
    "average_cost_region = []\n",
    "\n",
    "for index in range(len(regions_insurance_cost)):\n",
    "    average_cost = regions_insurance_cost[index] / regions_patients[index]\n",
    "    average_charge.append(average_cost)\n",
    "    average_cost_region.append([regions_data[index], average_cost])\n",
    "\n",
    "for index in range(len(average_cost_region)):\n",
    "    print(\"In region {r} there are {p} patientes.\".format(r = average_cost_region[index][0], \n",
    "                                                          p = regions_patients[index]))\n",
    "    print(\"The average insurance cost in {r} is: {c} dollars\".format(r = average_cost_region[index][0], \n",
    "                                                                     c = round(average_cost_region[index][1],2)))\n"
   ]
  },
  {
   "cell_type": "markdown",
   "metadata": {},
   "source": [
    "**4. Which region has the highest average cost? The least?**\n",
    "\n",
    "The region with highest average cost is *southeast*. And the region with the least average cost is *southwest*.\n",
    "\n",
    "**5. Are the average costs different for each generation?**\n",
    "\n",
    "First, I will check the max and min age. Then, I will create a list with 4 categories: `-25 years`, `26-40 years`, `41-60 years` and `+60 years` and create a for loop to iterate and count how many patients do we have pero category. Finally, I will calculate each average insurance cost and I will compare the results between the categories."
   ]
  },
  {
   "cell_type": "code",
   "execution_count": 184,
   "metadata": {},
   "outputs": [
    {
     "name": "stdout",
     "output_type": "stream",
     "text": [
      "Minimum Age in dataset: 18\n",
      "Maximum Age in dataset: 64\n"
     ]
    }
   ],
   "source": [
    "print('Minimum Age in dataset: {}'.format(min(ages)))\n",
    "print('Maximum Age in dataset: {}'.format(max(ages)))"
   ]
  },
  {
   "cell_type": "code",
   "execution_count": 185,
   "metadata": {},
   "outputs": [],
   "source": [
    "cost_by_age = [[int(age), float(charge)] for age, charge in list(zip(ages,insurance_charges))]\n",
    "\n",
    "categories = ['-25 years', '26-40 years', '41-60 years', '+60 years']\n",
    "patients_per_category = [i * 0 for i in range(len(categories))]\n",
    "cost_per_category = [i * 0 for i in range(len(categories))]"
   ]
  },
  {
   "cell_type": "code",
   "execution_count": 186,
   "metadata": {
    "scrolled": true
   },
   "outputs": [
    {
     "name": "stdout",
     "output_type": "stream",
     "text": [
      "The average insurance cost for people in category \"-25 years\" is: 9087.02 dollaras\n",
      "The average insurance cost for people in category \"26-40 years\" is: 11096.68 dollaras\n",
      "The average insurance cost for people in category \"41-60 years\" is: 15888.76 dollaras\n",
      "The average insurance cost for people in category \"+60 years\" is: 21063.16 dollaras\n"
     ]
    }
   ],
   "source": [
    "for index in range(len(cost_by_age)):\n",
    "    \n",
    "    if cost_by_age[index][0] <= 25:\n",
    "        patients_per_category[0] += 1\n",
    "        cost_per_category[0] += cost_by_age[index][1]\n",
    "        \n",
    "    elif cost_by_age[index][0] >= 26 and cost_by_age[index][0] <= 40:\n",
    "        patients_per_category[1] += 1\n",
    "        cost_per_category[1] += cost_by_age[index][1]\n",
    "        \n",
    "    elif cost_by_age[index][0] >= 41 and cost_by_age[index][0] <= 60:\n",
    "        patients_per_category[2] += 1\n",
    "        cost_per_category[2] += cost_by_age[index][1]\n",
    "        \n",
    "    else:\n",
    "        patients_per_category[-1] += 1\n",
    "        cost_per_category[-1] += cost_by_age[index][1]\n",
    "\n",
    "avg_cost_category = []\n",
    "\n",
    "for index in range(len(categories)):\n",
    "    average_cost = round((cost_per_category[index] / patients_per_category[index]),2)\n",
    "    avg_cost_category.append([categories[index], average_cost])\n",
    "    print('The average insurance cost for people in category \"{c}\" is: {d} dollaras'. format(\n",
    "        c = avg_cost_category[index][0], d = avg_cost_category[index][1]))"
   ]
  },
  {
   "cell_type": "markdown",
   "metadata": {},
   "source": [
    "The average insurance cost changes between the different categories of generation. The older the age, the more expensive the insurance.\n",
    "\n",
    "**6. Do smokers pay more than non-smokers overall?**"
   ]
  },
  {
   "cell_type": "code",
   "execution_count": 192,
   "metadata": {},
   "outputs": [
    {
     "name": "stdout",
     "output_type": "stream",
     "text": [
      "The average insurance cost for people in category \"Non-Smoker\" is: 8434.27 dollaras\n",
      "The average insurance cost for people in category \"Smoker\" is: 32050.23 dollaras\n"
     ]
    }
   ],
   "source": [
    "cost_by_status = [[smoker, float(charge)] for smoker, charge in list(zip(smoker_statuses,insurance_charges))]\n",
    "\n",
    "categories = ['Non-Smoker', 'Smoker']\n",
    "patients_per_category = [i * 0 for i in range(len(categories))]\n",
    "cost_per_category = [i * 0 for i in range(len(categories))]\n",
    "\n",
    "for index in range(len(cost_by_status)):\n",
    "    \n",
    "    if cost_by_status[index][0] == 'no':\n",
    "        patients_per_category[0] += 1\n",
    "        cost_per_category[0] += cost_by_status[index][1]\n",
    "            \n",
    "    else:\n",
    "        patients_per_category[-1] += 1\n",
    "        cost_per_category[-1] += cost_by_status[index][1]\n",
    "\n",
    "avg_cost_category = []\n",
    "\n",
    "for index in range(len(categories)):\n",
    "    average_cost = round((cost_per_category[index] / patients_per_category[index]),2)\n",
    "    avg_cost_category.append([categories[index], average_cost])\n",
    "    print('The average insurance cost for people in category \"{c}\" is: {d} dollaras'. format(\n",
    "        c = avg_cost_category[index][0], d = avg_cost_category[index][1]))"
   ]
  },
  {
   "cell_type": "markdown",
   "metadata": {},
   "source": [
    "The average insurance cost for smokers people is higher than the insurance for peoplo who doesn't smoke.\n",
    "\n",
    "**7. What is the number of males vs. females counted in the dataset?**"
   ]
  },
  {
   "cell_type": "code",
   "execution_count": 193,
   "metadata": {},
   "outputs": [
    {
     "name": "stdout",
     "output_type": "stream",
     "text": [
      "Count for female: 662\n",
      "Count for male: 676\n"
     ]
    }
   ],
   "source": [
    "patient_info.analyze_sex()"
   ]
  },
  {
   "cell_type": "markdown",
   "metadata": {},
   "source": [
    "There are more males than females in the dataset.\n",
    "\n",
    "**8. Do men or women pay more on average overall?**"
   ]
  },
  {
   "cell_type": "code",
   "execution_count": 196,
   "metadata": {},
   "outputs": [
    {
     "name": "stdout",
     "output_type": "stream",
     "text": [
      "The average insurance cost for people in category \"Female\" is: 12569.58 dollaras\n",
      "The average insurance cost for people in category \"Male\" is: 13956.75 dollaras\n"
     ]
    }
   ],
   "source": [
    "cost_by_sex = [[sex, float(charge)] for sex, charge in list(zip(sexes,insurance_charges))]\n",
    "\n",
    "categories = ['Female', 'Male']\n",
    "patients_per_category = [i * 0 for i in range(len(categories))]\n",
    "cost_per_category = [i * 0 for i in range(len(categories))]\n",
    "\n",
    "for index in range(len(cost_by_sex)):\n",
    "    \n",
    "    if cost_by_sex[index][0] == 'female':\n",
    "        patients_per_category[0] += 1\n",
    "        cost_per_category[0] += cost_by_sex[index][1]\n",
    "            \n",
    "    else:\n",
    "        patients_per_category[-1] += 1\n",
    "        cost_per_category[-1] += cost_by_sex[index][1]\n",
    "\n",
    "avg_cost_category = []\n",
    "\n",
    "for index in range(len(categories)):\n",
    "    average_cost = round((cost_per_category[index] / patients_per_category[index]),2)\n",
    "    avg_cost_category.append([categories[index], average_cost])\n",
    "    print('The average insurance cost for people in category \"{c}\" is: {d} dollaras'. format(\n",
    "        c = avg_cost_category[index][0], d = avg_cost_category[index][1]))"
   ]
  },
  {
   "cell_type": "markdown",
   "metadata": {},
   "source": [
    "The insurance cost is more expenssive for males than for female.\n",
    "\n",
    "## Patient Information"
   ]
  },
  {
   "cell_type": "code",
   "execution_count": 198,
   "metadata": {},
   "outputs": [],
   "source": [
    "patients = patient_info.create_dictionary()"
   ]
  }
 ],
 "metadata": {
  "kernelspec": {
   "display_name": "Python 3",
   "language": "python",
   "name": "python3"
  },
  "language_info": {
   "codemirror_mode": {
    "name": "ipython",
    "version": 3
   },
   "file_extension": ".py",
   "mimetype": "text/x-python",
   "name": "python",
   "nbconvert_exporter": "python",
   "pygments_lexer": "ipython3",
   "version": "3.8.3"
  }
 },
 "nbformat": 4,
 "nbformat_minor": 4
}
